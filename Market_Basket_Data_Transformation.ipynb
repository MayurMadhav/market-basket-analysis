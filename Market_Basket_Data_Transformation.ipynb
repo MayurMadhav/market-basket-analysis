{
  "cells": [
    {
      "cell_type": "code",
      "execution_count": null,
      "metadata": {
        "application/vnd.databricks.v1+cell": {
          "cellMetadata": {
            "byteLimit": 2048000,
            "rowLimit": 10000
          },
          "inputWidgets": {},
          "nuid": "8bc33020-694e-47e3-a245-dea4fa6f10c2",
          "showTitle": false,
          "title": ""
        },
        "id": "xU7p2rKyZtis"
      },
      "outputs": [],
      "source": [
        "from pyspark.sql.functions import col\n",
        "from pyspark.sql.types import IntegerType, DoubleType, BooleanType, DateType"
      ]
    },
    {
      "cell_type": "code",
      "execution_count": null,
      "metadata": {
        "application/vnd.databricks.v1+cell": {
          "cellMetadata": {
            "byteLimit": 2048000,
            "rowLimit": 10000
          },
          "inputWidgets": {},
          "nuid": "af5dcc2c-5dd2-413e-9310-a1dd5c79e426",
          "showTitle": false,
          "title": ""
        },
        "id": "191Dp81AZtiu",
        "outputId": "c0f3186d-e022-48c6-e01a-6f4568ae4765"
      },
      "outputs": [
        {
          "output_type": "execute_result",
          "data": {
            "text/plain": [
              "True"
            ]
          },
          "execution_count": 2,
          "metadata": {}
        }
      ],
      "source": [
        "configs = {\"fs.azure.account.auth.type\": \"OAuth\",\n",
        "\"fs.azure.account.oauth.provider.type\": \"org.apache.hadoop.fs.azurebfs.oauth2.ClientCredsTokenProvider\",\n",
        "\"fs.azure.account.oauth2.client.id\": \"\",\n",
        "\"fs.azure.account.oauth2.client.secret\": '',\n",
        "\"fs.azure.account.oauth2.client.endpoint\": \"https://login.microsoftonline.com/060ab22e-025e-4368-99fe-17c0722184e6/oauth2/token\"}\n",
        "\n",
        "dbutils.fs.mount(\n",
        "source = \"abfss://container@storageacc.dfs.core.windows.net\", # contrainer@storageacc\n",
        "mount_point = \"/mnt/marketbasket\",\n",
        "extra_configs = configs)"
      ]
    },
    {
      "cell_type": "code",
      "execution_count": null,
      "metadata": {
        "application/vnd.databricks.v1+cell": {
          "cellMetadata": {
            "byteLimit": 2048000,
            "rowLimit": 10000
          },
          "inputWidgets": {},
          "nuid": "170e3039-f86b-49ed-ac85-7e7b3e4dea76",
          "showTitle": false,
          "title": ""
        },
        "id": "9GEbaHVFZtiv",
        "outputId": "fa3e397f-5504-48b2-ed05-47ea583decb4"
      },
      "outputs": [
        {
          "output_type": "display_data",
          "data": {
            "text/html": [
              "<style scoped>\n",
              "  .table-result-container {\n",
              "    max-height: 300px;\n",
              "    overflow: auto;\n",
              "  }\n",
              "  table, th, td {\n",
              "    border: 1px solid black;\n",
              "    border-collapse: collapse;\n",
              "  }\n",
              "  th, td {\n",
              "    padding: 5px;\n",
              "  }\n",
              "  th {\n",
              "    text-align: left;\n",
              "  }\n",
              "</style><div class='table-result-container'><table class='table-result'><thead style='background-color: white'><tr><th>path</th><th>name</th><th>size</th><th>modificationTime</th></tr></thead><tbody><tr><td>dbfs:/mnt/marketbasket/raw-data/</td><td>raw-data/</td><td>0</td><td>1724760230000</td></tr><tr><td>dbfs:/mnt/marketbasket/transformed-data/</td><td>transformed-data/</td><td>0</td><td>1724760252000</td></tr></tbody></table></div>"
            ]
          },
          "metadata": {
            "application/vnd.databricks.v1+output": {
              "addedWidgets": {},
              "aggData": [],
              "aggError": "",
              "aggOverflow": false,
              "aggSchema": [],
              "aggSeriesLimitReached": false,
              "aggType": "",
              "arguments": {},
              "columnCustomDisplayInfos": {},
              "data": [
                [
                  "dbfs:/mnt/marketbasket/raw-data/",
                  "raw-data/",
                  0,
                  1724760230000
                ],
                [
                  "dbfs:/mnt/marketbasket/transformed-data/",
                  "transformed-data/",
                  0,
                  1724760252000
                ]
              ],
              "datasetInfos": [],
              "dbfsResultPath": null,
              "isJsonSchema": true,
              "metadata": {
                "isDbfsCommandResult": false
              },
              "overflow": false,
              "plotOptions": {
                "customPlotOptions": {},
                "displayType": "table",
                "pivotAggregation": null,
                "pivotColumns": null,
                "xColumns": null,
                "yColumns": null
              },
              "removedWidgets": [],
              "schema": [
                {
                  "metadata": "{}",
                  "name": "path",
                  "type": "\"string\""
                },
                {
                  "metadata": "{}",
                  "name": "name",
                  "type": "\"string\""
                },
                {
                  "metadata": "{}",
                  "name": "size",
                  "type": "\"long\""
                },
                {
                  "metadata": "{}",
                  "name": "modificationTime",
                  "type": "\"long\""
                }
              ],
              "type": "table"
            }
          }
        }
      ],
      "source": [
        "%fs\n",
        "\n",
        "ls \"mnt/marketbasket\""
      ]
    },
    {
      "cell_type": "code",
      "execution_count": null,
      "metadata": {
        "application/vnd.databricks.v1+cell": {
          "cellMetadata": {
            "byteLimit": 2048000,
            "rowLimit": 10000
          },
          "inputWidgets": {},
          "nuid": "67629ec9-4eb1-4fb8-9aef-75b0d19cdd58",
          "showTitle": false,
          "title": ""
        },
        "id": "7JcfmvrkZtiw"
      },
      "outputs": [],
      "source": [
        "basket = spark.read.format(\"csv\").option(\"header\",\"true\").load(\"/mnt/marketbasket/raw-data/groceries.csv\")"
      ]
    },
    {
      "cell_type": "code",
      "execution_count": null,
      "metadata": {
        "application/vnd.databricks.v1+cell": {
          "cellMetadata": {
            "byteLimit": 2048000,
            "rowLimit": 10000
          },
          "inputWidgets": {},
          "nuid": "515fc54e-3a6e-40e0-b11a-e4d747b7ebde",
          "showTitle": false,
          "title": ""
        },
        "id": "TMFe9lI1Ztiw",
        "outputId": "02a3b4f6-1265-47ef-c169-c883fcb04b5d"
      },
      "outputs": [
        {
          "output_type": "stream",
          "name": "stdout",
          "text": [
            "+-------+--------------------+-------------------+--------------------+--------------------+------------------+------+------+-------------+------+-------+-------+-------+-------+-------+-------+-------+-------+-------+-------+-------+-------+-------+-------+-------+-------+-------+-------+-------+-------+-------+-------+-------+\n|Item(s)|              Item 1|             Item 2|              Item 3|              Item 4|            Item 5|Item 6|Item 7|       Item 8|Item 9|Item 10|Item 11|Item 12|Item 13|Item 14|Item 15|Item 16|Item 17|Item 18|Item 19|Item 20|Item 21|Item 22|Item 23|Item 24|Item 25|Item 26|Item 27|Item 28|Item 29|Item 30|Item 31|Item 32|\n+-------+--------------------+-------------------+--------------------+--------------------+------------------+------+------+-------------+------+-------+-------+-------+-------+-------+-------+-------+-------+-------+-------+-------+-------+-------+-------+-------+-------+-------+-------+-------+-------+-------+-------+-------+\n|      4|        citrus fruit|semi-finished bread|           margarine|         ready soups|              NULL|  NULL|  NULL|         NULL|  NULL|   NULL|   NULL|   NULL|   NULL|   NULL|   NULL|   NULL|   NULL|   NULL|   NULL|   NULL|   NULL|   NULL|   NULL|   NULL|   NULL|   NULL|   NULL|   NULL|   NULL|   NULL|   NULL|   NULL|\n|      3|      tropical fruit|             yogurt|              coffee|                NULL|              NULL|  NULL|  NULL|         NULL|  NULL|   NULL|   NULL|   NULL|   NULL|   NULL|   NULL|   NULL|   NULL|   NULL|   NULL|   NULL|   NULL|   NULL|   NULL|   NULL|   NULL|   NULL|   NULL|   NULL|   NULL|   NULL|   NULL|   NULL|\n|      1|          whole milk|               NULL|                NULL|                NULL|              NULL|  NULL|  NULL|         NULL|  NULL|   NULL|   NULL|   NULL|   NULL|   NULL|   NULL|   NULL|   NULL|   NULL|   NULL|   NULL|   NULL|   NULL|   NULL|   NULL|   NULL|   NULL|   NULL|   NULL|   NULL|   NULL|   NULL|   NULL|\n|      4|           pip fruit|             yogurt|        cream cheese|        meat spreads|              NULL|  NULL|  NULL|         NULL|  NULL|   NULL|   NULL|   NULL|   NULL|   NULL|   NULL|   NULL|   NULL|   NULL|   NULL|   NULL|   NULL|   NULL|   NULL|   NULL|   NULL|   NULL|   NULL|   NULL|   NULL|   NULL|   NULL|   NULL|\n|      4|    other vegetables|         whole milk|      condensed milk|long life bakery ...|              NULL|  NULL|  NULL|         NULL|  NULL|   NULL|   NULL|   NULL|   NULL|   NULL|   NULL|   NULL|   NULL|   NULL|   NULL|   NULL|   NULL|   NULL|   NULL|   NULL|   NULL|   NULL|   NULL|   NULL|   NULL|   NULL|   NULL|   NULL|\n|      5|          whole milk|             butter|              yogurt|                rice|  abrasive cleaner|  NULL|  NULL|         NULL|  NULL|   NULL|   NULL|   NULL|   NULL|   NULL|   NULL|   NULL|   NULL|   NULL|   NULL|   NULL|   NULL|   NULL|   NULL|   NULL|   NULL|   NULL|   NULL|   NULL|   NULL|   NULL|   NULL|   NULL|\n|      1|          rolls/buns|               NULL|                NULL|                NULL|              NULL|  NULL|  NULL|         NULL|  NULL|   NULL|   NULL|   NULL|   NULL|   NULL|   NULL|   NULL|   NULL|   NULL|   NULL|   NULL|   NULL|   NULL|   NULL|   NULL|   NULL|   NULL|   NULL|   NULL|   NULL|   NULL|   NULL|   NULL|\n|      5|    other vegetables|           UHT-milk|          rolls/buns|        bottled beer|liquor (appetizer)|  NULL|  NULL|         NULL|  NULL|   NULL|   NULL|   NULL|   NULL|   NULL|   NULL|   NULL|   NULL|   NULL|   NULL|   NULL|   NULL|   NULL|   NULL|   NULL|   NULL|   NULL|   NULL|   NULL|   NULL|   NULL|   NULL|   NULL|\n|      1|       potted plants|               NULL|                NULL|                NULL|              NULL|  NULL|  NULL|         NULL|  NULL|   NULL|   NULL|   NULL|   NULL|   NULL|   NULL|   NULL|   NULL|   NULL|   NULL|   NULL|   NULL|   NULL|   NULL|   NULL|   NULL|   NULL|   NULL|   NULL|   NULL|   NULL|   NULL|   NULL|\n|      2|          whole milk|            cereals|                NULL|                NULL|              NULL|  NULL|  NULL|         NULL|  NULL|   NULL|   NULL|   NULL|   NULL|   NULL|   NULL|   NULL|   NULL|   NULL|   NULL|   NULL|   NULL|   NULL|   NULL|   NULL|   NULL|   NULL|   NULL|   NULL|   NULL|   NULL|   NULL|   NULL|\n|      5|      tropical fruit|   other vegetables|         white bread|       bottled water|         chocolate|  NULL|  NULL|         NULL|  NULL|   NULL|   NULL|   NULL|   NULL|   NULL|   NULL|   NULL|   NULL|   NULL|   NULL|   NULL|   NULL|   NULL|   NULL|   NULL|   NULL|   NULL|   NULL|   NULL|   NULL|   NULL|   NULL|   NULL|\n|      9|        citrus fruit|     tropical fruit|          whole milk|              butter|              curd|yogurt| flour|bottled water|dishes|   NULL|   NULL|   NULL|   NULL|   NULL|   NULL|   NULL|   NULL|   NULL|   NULL|   NULL|   NULL|   NULL|   NULL|   NULL|   NULL|   NULL|   NULL|   NULL|   NULL|   NULL|   NULL|   NULL|\n|      1|                beef|               NULL|                NULL|                NULL|              NULL|  NULL|  NULL|         NULL|  NULL|   NULL|   NULL|   NULL|   NULL|   NULL|   NULL|   NULL|   NULL|   NULL|   NULL|   NULL|   NULL|   NULL|   NULL|   NULL|   NULL|   NULL|   NULL|   NULL|   NULL|   NULL|   NULL|   NULL|\n|      3|         frankfurter|         rolls/buns|                soda|                NULL|              NULL|  NULL|  NULL|         NULL|  NULL|   NULL|   NULL|   NULL|   NULL|   NULL|   NULL|   NULL|   NULL|   NULL|   NULL|   NULL|   NULL|   NULL|   NULL|   NULL|   NULL|   NULL|   NULL|   NULL|   NULL|   NULL|   NULL|   NULL|\n|      2|             chicken|     tropical fruit|                NULL|                NULL|              NULL|  NULL|  NULL|         NULL|  NULL|   NULL|   NULL|   NULL|   NULL|   NULL|   NULL|   NULL|   NULL|   NULL|   NULL|   NULL|   NULL|   NULL|   NULL|   NULL|   NULL|   NULL|   NULL|   NULL|   NULL|   NULL|   NULL|   NULL|\n|      4|              butter|              sugar|fruit/vegetable j...|          newspapers|              NULL|  NULL|  NULL|         NULL|  NULL|   NULL|   NULL|   NULL|   NULL|   NULL|   NULL|   NULL|   NULL|   NULL|   NULL|   NULL|   NULL|   NULL|   NULL|   NULL|   NULL|   NULL|   NULL|   NULL|   NULL|   NULL|   NULL|   NULL|\n|      1|fruit/vegetable j...|               NULL|                NULL|                NULL|              NULL|  NULL|  NULL|         NULL|  NULL|   NULL|   NULL|   NULL|   NULL|   NULL|   NULL|   NULL|   NULL|   NULL|   NULL|   NULL|   NULL|   NULL|   NULL|   NULL|   NULL|   NULL|   NULL|   NULL|   NULL|   NULL|   NULL|   NULL|\n|      1|packaged fruit/ve...|               NULL|                NULL|                NULL|              NULL|  NULL|  NULL|         NULL|  NULL|   NULL|   NULL|   NULL|   NULL|   NULL|   NULL|   NULL|   NULL|   NULL|   NULL|   NULL|   NULL|   NULL|   NULL|   NULL|   NULL|   NULL|   NULL|   NULL|   NULL|   NULL|   NULL|   NULL|\n|      1|           chocolate|               NULL|                NULL|                NULL|              NULL|  NULL|  NULL|         NULL|  NULL|   NULL|   NULL|   NULL|   NULL|   NULL|   NULL|   NULL|   NULL|   NULL|   NULL|   NULL|   NULL|   NULL|   NULL|   NULL|   NULL|   NULL|   NULL|   NULL|   NULL|   NULL|   NULL|   NULL|\n|      1|       specialty bar|               NULL|                NULL|                NULL|              NULL|  NULL|  NULL|         NULL|  NULL|   NULL|   NULL|   NULL|   NULL|   NULL|   NULL|   NULL|   NULL|   NULL|   NULL|   NULL|   NULL|   NULL|   NULL|   NULL|   NULL|   NULL|   NULL|   NULL|   NULL|   NULL|   NULL|   NULL|\n+-------+--------------------+-------------------+--------------------+--------------------+------------------+------+------+-------------+------+-------+-------+-------+-------+-------+-------+-------+-------+-------+-------+-------+-------+-------+-------+-------+-------+-------+-------+-------+-------+-------+-------+-------+\nonly showing top 20 rows\n\n"
          ]
        }
      ],
      "source": [
        "basket.show()"
      ]
    },
    {
      "cell_type": "code",
      "execution_count": null,
      "metadata": {
        "application/vnd.databricks.v1+cell": {
          "cellMetadata": {
            "byteLimit": 2048000,
            "rowLimit": 10000
          },
          "inputWidgets": {},
          "nuid": "f0220c91-cc4d-4ad1-a588-0e2483ecc36c",
          "showTitle": false,
          "title": ""
        },
        "id": "zQkZtIakZtiw"
      },
      "outputs": [],
      "source": [
        "basket = basket.drop(basket.columns[0])"
      ]
    },
    {
      "cell_type": "code",
      "execution_count": null,
      "metadata": {
        "application/vnd.databricks.v1+cell": {
          "cellMetadata": {
            "byteLimit": 2048000,
            "rowLimit": 10000
          },
          "inputWidgets": {},
          "nuid": "96c133f4-041d-4777-929d-41d2e78969ee",
          "showTitle": false,
          "title": ""
        },
        "id": "fe_aCff7Ztiw"
      },
      "outputs": [],
      "source": [
        "from pyspark.sql.functions import monotonically_increasing_id\n",
        "\n",
        "# Add a unique ID to each row\n",
        "basket = basket.withColumn(\"id\", monotonically_increasing_id())\n",
        "\n",
        "# Filter out the row where 'id' is the smallest (equivalent to dropping the first row)\n",
        "first_row_id = basket.select(\"id\").first()[0]\n",
        "basket = basket.filter(basket.id != first_row_id)\n",
        "\n",
        "# Drop the 'id' column as it's no longer needed\n",
        "basket = basket.drop(\"id\")\n"
      ]
    },
    {
      "cell_type": "code",
      "execution_count": null,
      "metadata": {
        "application/vnd.databricks.v1+cell": {
          "cellMetadata": {
            "byteLimit": 2048000,
            "rowLimit": 10000
          },
          "inputWidgets": {},
          "nuid": "da753892-e9b2-4efd-b753-2576387c8ddb",
          "showTitle": false,
          "title": ""
        },
        "id": "Dskd4DOUZtix",
        "outputId": "8a4142a4-8ebe-4570-98f2-45a70c26b91a"
      },
      "outputs": [
        {
          "output_type": "stream",
          "name": "stdout",
          "text": [
            "+--------------------+----------------+--------------------+--------------------+------------------+------+------+-------------+------+-------+-------+-------+-------+-------+-------+-------+-------+-------+-------+-------+-------+-------+-------+-------+-------+-------+-------+-------+-------+-------+-------+-------+\n|              Item 1|          Item 2|              Item 3|              Item 4|            Item 5|Item 6|Item 7|       Item 8|Item 9|Item 10|Item 11|Item 12|Item 13|Item 14|Item 15|Item 16|Item 17|Item 18|Item 19|Item 20|Item 21|Item 22|Item 23|Item 24|Item 25|Item 26|Item 27|Item 28|Item 29|Item 30|Item 31|Item 32|\n+--------------------+----------------+--------------------+--------------------+------------------+------+------+-------------+------+-------+-------+-------+-------+-------+-------+-------+-------+-------+-------+-------+-------+-------+-------+-------+-------+-------+-------+-------+-------+-------+-------+-------+\n|      tropical fruit|          yogurt|              coffee|                NULL|              NULL|  NULL|  NULL|         NULL|  NULL|   NULL|   NULL|   NULL|   NULL|   NULL|   NULL|   NULL|   NULL|   NULL|   NULL|   NULL|   NULL|   NULL|   NULL|   NULL|   NULL|   NULL|   NULL|   NULL|   NULL|   NULL|   NULL|   NULL|\n|          whole milk|            NULL|                NULL|                NULL|              NULL|  NULL|  NULL|         NULL|  NULL|   NULL|   NULL|   NULL|   NULL|   NULL|   NULL|   NULL|   NULL|   NULL|   NULL|   NULL|   NULL|   NULL|   NULL|   NULL|   NULL|   NULL|   NULL|   NULL|   NULL|   NULL|   NULL|   NULL|\n|           pip fruit|          yogurt|        cream cheese|        meat spreads|              NULL|  NULL|  NULL|         NULL|  NULL|   NULL|   NULL|   NULL|   NULL|   NULL|   NULL|   NULL|   NULL|   NULL|   NULL|   NULL|   NULL|   NULL|   NULL|   NULL|   NULL|   NULL|   NULL|   NULL|   NULL|   NULL|   NULL|   NULL|\n|    other vegetables|      whole milk|      condensed milk|long life bakery ...|              NULL|  NULL|  NULL|         NULL|  NULL|   NULL|   NULL|   NULL|   NULL|   NULL|   NULL|   NULL|   NULL|   NULL|   NULL|   NULL|   NULL|   NULL|   NULL|   NULL|   NULL|   NULL|   NULL|   NULL|   NULL|   NULL|   NULL|   NULL|\n|          whole milk|          butter|              yogurt|                rice|  abrasive cleaner|  NULL|  NULL|         NULL|  NULL|   NULL|   NULL|   NULL|   NULL|   NULL|   NULL|   NULL|   NULL|   NULL|   NULL|   NULL|   NULL|   NULL|   NULL|   NULL|   NULL|   NULL|   NULL|   NULL|   NULL|   NULL|   NULL|   NULL|\n|          rolls/buns|            NULL|                NULL|                NULL|              NULL|  NULL|  NULL|         NULL|  NULL|   NULL|   NULL|   NULL|   NULL|   NULL|   NULL|   NULL|   NULL|   NULL|   NULL|   NULL|   NULL|   NULL|   NULL|   NULL|   NULL|   NULL|   NULL|   NULL|   NULL|   NULL|   NULL|   NULL|\n|    other vegetables|        UHT-milk|          rolls/buns|        bottled beer|liquor (appetizer)|  NULL|  NULL|         NULL|  NULL|   NULL|   NULL|   NULL|   NULL|   NULL|   NULL|   NULL|   NULL|   NULL|   NULL|   NULL|   NULL|   NULL|   NULL|   NULL|   NULL|   NULL|   NULL|   NULL|   NULL|   NULL|   NULL|   NULL|\n|       potted plants|            NULL|                NULL|                NULL|              NULL|  NULL|  NULL|         NULL|  NULL|   NULL|   NULL|   NULL|   NULL|   NULL|   NULL|   NULL|   NULL|   NULL|   NULL|   NULL|   NULL|   NULL|   NULL|   NULL|   NULL|   NULL|   NULL|   NULL|   NULL|   NULL|   NULL|   NULL|\n|          whole milk|         cereals|                NULL|                NULL|              NULL|  NULL|  NULL|         NULL|  NULL|   NULL|   NULL|   NULL|   NULL|   NULL|   NULL|   NULL|   NULL|   NULL|   NULL|   NULL|   NULL|   NULL|   NULL|   NULL|   NULL|   NULL|   NULL|   NULL|   NULL|   NULL|   NULL|   NULL|\n|      tropical fruit|other vegetables|         white bread|       bottled water|         chocolate|  NULL|  NULL|         NULL|  NULL|   NULL|   NULL|   NULL|   NULL|   NULL|   NULL|   NULL|   NULL|   NULL|   NULL|   NULL|   NULL|   NULL|   NULL|   NULL|   NULL|   NULL|   NULL|   NULL|   NULL|   NULL|   NULL|   NULL|\n|        citrus fruit|  tropical fruit|          whole milk|              butter|              curd|yogurt| flour|bottled water|dishes|   NULL|   NULL|   NULL|   NULL|   NULL|   NULL|   NULL|   NULL|   NULL|   NULL|   NULL|   NULL|   NULL|   NULL|   NULL|   NULL|   NULL|   NULL|   NULL|   NULL|   NULL|   NULL|   NULL|\n|                beef|            NULL|                NULL|                NULL|              NULL|  NULL|  NULL|         NULL|  NULL|   NULL|   NULL|   NULL|   NULL|   NULL|   NULL|   NULL|   NULL|   NULL|   NULL|   NULL|   NULL|   NULL|   NULL|   NULL|   NULL|   NULL|   NULL|   NULL|   NULL|   NULL|   NULL|   NULL|\n|         frankfurter|      rolls/buns|                soda|                NULL|              NULL|  NULL|  NULL|         NULL|  NULL|   NULL|   NULL|   NULL|   NULL|   NULL|   NULL|   NULL|   NULL|   NULL|   NULL|   NULL|   NULL|   NULL|   NULL|   NULL|   NULL|   NULL|   NULL|   NULL|   NULL|   NULL|   NULL|   NULL|\n|             chicken|  tropical fruit|                NULL|                NULL|              NULL|  NULL|  NULL|         NULL|  NULL|   NULL|   NULL|   NULL|   NULL|   NULL|   NULL|   NULL|   NULL|   NULL|   NULL|   NULL|   NULL|   NULL|   NULL|   NULL|   NULL|   NULL|   NULL|   NULL|   NULL|   NULL|   NULL|   NULL|\n|              butter|           sugar|fruit/vegetable j...|          newspapers|              NULL|  NULL|  NULL|         NULL|  NULL|   NULL|   NULL|   NULL|   NULL|   NULL|   NULL|   NULL|   NULL|   NULL|   NULL|   NULL|   NULL|   NULL|   NULL|   NULL|   NULL|   NULL|   NULL|   NULL|   NULL|   NULL|   NULL|   NULL|\n|fruit/vegetable j...|            NULL|                NULL|                NULL|              NULL|  NULL|  NULL|         NULL|  NULL|   NULL|   NULL|   NULL|   NULL|   NULL|   NULL|   NULL|   NULL|   NULL|   NULL|   NULL|   NULL|   NULL|   NULL|   NULL|   NULL|   NULL|   NULL|   NULL|   NULL|   NULL|   NULL|   NULL|\n|packaged fruit/ve...|            NULL|                NULL|                NULL|              NULL|  NULL|  NULL|         NULL|  NULL|   NULL|   NULL|   NULL|   NULL|   NULL|   NULL|   NULL|   NULL|   NULL|   NULL|   NULL|   NULL|   NULL|   NULL|   NULL|   NULL|   NULL|   NULL|   NULL|   NULL|   NULL|   NULL|   NULL|\n|           chocolate|            NULL|                NULL|                NULL|              NULL|  NULL|  NULL|         NULL|  NULL|   NULL|   NULL|   NULL|   NULL|   NULL|   NULL|   NULL|   NULL|   NULL|   NULL|   NULL|   NULL|   NULL|   NULL|   NULL|   NULL|   NULL|   NULL|   NULL|   NULL|   NULL|   NULL|   NULL|\n|       specialty bar|            NULL|                NULL|                NULL|              NULL|  NULL|  NULL|         NULL|  NULL|   NULL|   NULL|   NULL|   NULL|   NULL|   NULL|   NULL|   NULL|   NULL|   NULL|   NULL|   NULL|   NULL|   NULL|   NULL|   NULL|   NULL|   NULL|   NULL|   NULL|   NULL|   NULL|   NULL|\n|    other vegetables|            NULL|                NULL|                NULL|              NULL|  NULL|  NULL|         NULL|  NULL|   NULL|   NULL|   NULL|   NULL|   NULL|   NULL|   NULL|   NULL|   NULL|   NULL|   NULL|   NULL|   NULL|   NULL|   NULL|   NULL|   NULL|   NULL|   NULL|   NULL|   NULL|   NULL|   NULL|\n+--------------------+----------------+--------------------+--------------------+------------------+------+------+-------------+------+-------+-------+-------+-------+-------+-------+-------+-------+-------+-------+-------+-------+-------+-------+-------+-------+-------+-------+-------+-------+-------+-------+-------+\nonly showing top 20 rows\n\n"
          ]
        }
      ],
      "source": [
        "basket.show()"
      ]
    },
    {
      "cell_type": "code",
      "execution_count": null,
      "metadata": {
        "application/vnd.databricks.v1+cell": {
          "cellMetadata": {
            "byteLimit": 2048000,
            "rowLimit": 10000
          },
          "inputWidgets": {},
          "nuid": "477c9b75-6ef6-4dc8-af4b-eca9822d1de6",
          "showTitle": false,
          "title": ""
        },
        "id": "9_u38Cw2Ztix"
      },
      "outputs": [],
      "source": [
        "basket.repartition(1).write.mode(\"overwrite\").csv(\"/mnt/marketbasket/transformed-data/groceries\")"
      ]
    },
    {
      "cell_type": "code",
      "execution_count": null,
      "metadata": {
        "application/vnd.databricks.v1+cell": {
          "cellMetadata": {},
          "inputWidgets": {},
          "nuid": "4ac10b51-1722-4edf-b230-e69e07551f52",
          "showTitle": false,
          "title": ""
        },
        "id": "_3mPb6w1Ztix"
      },
      "outputs": [],
      "source": []
    }
  ],
  "metadata": {
    "application/vnd.databricks.v1+notebook": {
      "dashboards": [],
      "environmentMetadata": null,
      "language": "python",
      "notebookMetadata": {
        "mostRecentlyExecutedCommandWithImplicitDF": {
          "commandId": 3191970722946994,
          "dataframes": [
            "_sqldf"
          ]
        },
        "pythonIndentUnit": 4
      },
      "notebookName": "Market-Basket-Data-Transformation",
      "widgets": {}
    },
    "colab": {
      "provenance": []
    }
  },
  "nbformat": 4,
  "nbformat_minor": 0
}